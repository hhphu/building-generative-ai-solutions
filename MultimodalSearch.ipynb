{
 "cells": [
  {
   "cell_type": "markdown",
   "id": "e8c17377",
   "metadata": {},
   "source": [
    "# Multimodal Search\n",
    "\n",
    "In this final exercise, we will learn how to use vector databases to search through images using natural language. \n",
    "\n",
    "We will be searching through an open source image dataset using an open source model called CLIP.\n",
    "This model is able to encode both images and text into the same embedding space, allowing us to retrieve images that are similar to a user question."
   ]
  },
  {
   "cell_type": "code",
   "execution_count": 1,
   "id": "eab7501c-ae21-462f-b744-c9fc3f6ad965",
   "metadata": {},
   "outputs": [],
   "source": [
    "# pip install --quiet datasets gradio lancedb pandas transformers [This has been preinstalled for you]"
   ]
  },
  {
   "cell_type": "markdown",
   "id": "ebfec2b3",
   "metadata": {},
   "source": [
    "## Setup CLIP model\n",
    "\n",
    "First, let's prepare the [CLIP](https://huggingface.co/docs/transformers/model_doc/clip) model to encode the images.\n",
    "We want to setup two things:\n",
    "1. a model to encode the image\n",
    "2. a processor to prepare the image to be encoded\n",
    "\n",
    "Fill in the code below to initialize a pre-trained model and processor.\n",
    "\n",
    "**SOLUTION** By reading the CLIP documentation, we see that we can use the `from_pretrained` classmethods to initialize the model and the processor"
   ]
  },
  {
   "cell_type": "code",
   "execution_count": 2,
   "id": "f3d25d2d",
   "metadata": {},
   "outputs": [
    {
     "name": "stderr",
     "output_type": "stream",
     "text": [
      "/opt/venv/lib/python3.10/site-packages/tqdm/auto.py:21: TqdmWarning: IProgress not found. Please update jupyter and ipywidgets. See https://ipywidgets.readthedocs.io/en/stable/user_install.html\n",
      "  from .autonotebook import tqdm as notebook_tqdm\n",
      "/opt/venv/lib/python3.10/site-packages/transformers/utils/generic.py:260: UserWarning: torch.utils._pytree._register_pytree_node is deprecated. Please use torch.utils._pytree.register_pytree_node instead.\n",
      "  torch.utils._pytree._register_pytree_node(\n"
     ]
    }
   ],
   "source": [
    "from transformers import CLIPModel, CLIPProcessor\n",
    "\n",
    "MODEL_ID = \"openai/clip-vit-base-patch32\"\n",
    "\n",
    "device = \"cpu\"\n",
    "\n",
    "model = CLIPModel.from_pretrained(MODEL_ID).to(device)\n",
    "processor = CLIPProcessor.from_pretrained(MODEL_ID)"
   ]
  },
  {
   "cell_type": "markdown",
   "id": "6784f1db",
   "metadata": {},
   "source": [
    "## Setup data model\n",
    "\n",
    "The dataset itself has an image field and an integer label.\n",
    "We'll also need an embedding vector (CLIP produces 512D vectors) field.\n",
    "\n",
    "For this problem, please a field named \"vector\" to the Image class below\n",
    "that is a 512D vector.\n",
    "\n",
    "The image that comes out of the raw dataset is a PIL image. So we'll add\n",
    "some conversion code between PIL and bytes to make it easier for serde."
   ]
  },
  {
   "cell_type": "code",
   "execution_count": 3,
   "id": "027bd8e2",
   "metadata": {},
   "outputs": [],
   "source": [
    "import io\n",
    "\n",
    "from lancedb.pydantic import LanceModel, vector\n",
    "import PIL\n",
    "\n",
    "class Image(LanceModel):\n",
    "    image: bytes\n",
    "    label: int\n",
    "    vector: vector(512)\n",
    "        \n",
    "    def to_pil(self):\n",
    "        return PIL.Image.open(io.BytesIO(self.image))\n",
    "    \n",
    "    @classmethod\n",
    "    def pil_to_bytes(cls, img) -> bytes:\n",
    "        buf = io.BytesIO()\n",
    "        img.save(buf, format=\"PNG\")\n",
    "        return buf.getvalue()"
   ]
  },
  {
   "cell_type": "markdown",
   "id": "44277d19",
   "metadata": {},
   "source": [
    "## Image processing function\n",
    "\n",
    "Next we will implement a function to process batches of data from the dataset.\n",
    "We will be using the `zh-plus/tiny-imagenet` dataset from huggingface datasets.\n",
    "This dataset has an `image` and a `label` column.\n",
    "\n",
    "For this problem, please fill in the code to extract the image embeddings from\n",
    "the image using the CLIP model.\n",
    "\n",
    "**SOLUTION** Here we'll use the `get_image_features` method on the model instance"
   ]
  },
  {
   "cell_type": "code",
   "execution_count": 4,
   "id": "5c040600",
   "metadata": {},
   "outputs": [],
   "source": [
    "def process_image(row):\n",
    "    # Extract the actual image bytes from the dictionary\n",
    "    image_bytes = row[\"image\"][\"bytes\"]  # Access the 'bytes' key inside the dictionary\n",
    "\n",
    "    # Convert bytes to PIL image\n",
    "    pil_image = PIL.Image.open(io.BytesIO(image_bytes))\n",
    "    \n",
    "    # Process the image using CLIPProcessor\n",
    "    image_tensor = processor(text=None, images=pil_image, return_tensors=\"pt\")[\"pixel_values\"].to(device)\n",
    "    img_emb = model.get_image_features(image_tensor).cpu().detach().numpy()\n",
    "    \n",
    "    # Flatten the vector and ensure it's a list\n",
    "    row[\"vector\"] = img_emb.flatten().tolist()  # Flatten and convert to a list\n",
    "    row[\"image\"] = Image.pil_to_bytes(pil_image)  # Convert back to bytes\n",
    "    return row"
   ]
  },
  {
   "cell_type": "markdown",
   "id": "839ed9f2",
   "metadata": {},
   "source": [
    "## Table creation\n",
    "\n",
    "Please create a LanceDB table called `image_search` to store the image, label, and vector.\n",
    "\n",
    "**SOLUTION** this should be familiar to you by now. Let's call `lancedb.connect` then\n",
    "`db.create_table`"
   ]
  },
  {
   "cell_type": "code",
   "execution_count": 5,
   "id": "e64a6057",
   "metadata": {},
   "outputs": [],
   "source": [
    "import lancedb\n",
    "\n",
    "db = lancedb.connect(\"~/.lancedb\")\n",
    "TABLE_NAME = \"image_search\"\n",
    "db.drop_table(TABLE_NAME, ignore_missing=True)\n",
    "table = db.create_table(TABLE_NAME, schema=Image.to_arrow_schema())"
   ]
  },
  {
   "cell_type": "markdown",
   "id": "e0c0cc14",
   "metadata": {},
   "source": [
    "## Adding data\n",
    "\n",
    "Now we're ready to process the images and generate embeddings.\n",
    "Please write a function called `datagen` that calls `process_image` on each image in the validation set (10K images) and return a list of Image instances.\n",
    "\n",
    "**HINT**\n",
    "1. You may find it faster to use the [dataset.map](https://huggingface.co/docs/datasets/process#map) function.\n",
    "2. You'll want to store the `image_bytes` field that is returned by `process_image`.\n",
    "\n",
    "**SOLUTION**\n",
    "1. We'll call `load_dataset` and retrieve the `valid` split\n",
    "2. We then map `process_image` and construct Image instances"
   ]
  },
  {
   "cell_type": "code",
   "execution_count": 6,
   "id": "4f40c825",
   "metadata": {},
   "outputs": [],
   "source": [
    "import pandas as pd\n",
    "from tqdm import tqdm\n",
    "\n",
    "# Define a wrapper for tqdm progress tracking\n",
    "# A progress bar is required because the datagen() function processes 10,000 images, which takes approximately 50–60 minutes.\n",
    "def process_image_with_progress(row):\n",
    "    global pbar  # Use a global progress bar\n",
    "    result = process_image(row)\n",
    "    pbar.update(1)  # Update progress after processing each row\n",
    "    return result\n",
    "\n",
    "# Load and Process Data from Parquet\n",
    "def datagen() -> list[Image]:\n",
    "    dataset = pd.read_parquet(\"../zh-plus-tiny-imagenet_valid_split.parquet\")\n",
    "\n",
    "    global pbar\n",
    "    \n",
    "    # Process rows using Pandas apply\n",
    "    with tqdm(total=len(dataset), desc=\"Processing images\") as pbar:\n",
    "        processed_df = dataset.apply(process_image_with_progress, axis=1)\n",
    "\n",
    "    # Convert rows into Image objects\n",
    "    return [\n",
    "        Image(image=row[\"image\"], label=row[\"label\"], vector=row[\"vector\"])\n",
    "        for _, row in processed_df.iterrows()\n",
    "    ]\n",
    "\n"
   ]
  },
  {
   "cell_type": "raw",
   "id": "ca6a3699",
   "metadata": {},
   "source": [
    "\n",
    "'''\n",
    "# Function without a progress bar\n",
    "# Load and Process Data from Parquet\n",
    "def datagen() -> list[Image]:\n",
    "    # Load the dataset from a Parquet file\n",
    "    dataset = pd.read_parquet(\"../zh-plus-tiny-imagenet_valid_split.parquet\")\n",
    "\n",
    "    # Process rows using Pandas apply\n",
    "    processed_df = dataset.apply(process_image, axis=1)\n",
    "\n",
    "    # Convert rows into Image objects\n",
    "    return [\n",
    "        Image(image=row[\"image\"], label=row[\"label\"], vector=row[\"vector\"])\n",
    "        for _, row in processed_df.iterrows()\n",
    "    ]\n",
    "'''    "
   ]
  },
  {
   "cell_type": "markdown",
   "id": "2f2fc633",
   "metadata": {},
   "source": [
    "Now call the function you just wrote and add the generated instances to the LanceDB table. The following process can take up to 60 minutes to complete."
   ]
  },
  {
   "cell_type": "code",
   "execution_count": null,
   "id": "4b8a5c2e",
   "metadata": {
    "scrolled": true
   },
   "outputs": [
    {
     "name": "stderr",
     "output_type": "stream",
     "text": [
      "Processing images:   0%|          | 5/10000 [00:03<2:02:10,  1.36it/s]"
     ]
    }
   ],
   "source": [
    "data = datagen()\n"
   ]
  },
  {
   "cell_type": "code",
   "execution_count": null,
   "id": "74a9d785",
   "metadata": {},
   "outputs": [],
   "source": [
    "table.add(data)"
   ]
  },
  {
   "cell_type": "markdown",
   "id": "bfb70b75",
   "metadata": {},
   "source": [
    "## Encoding user queries\n",
    "\n",
    "We have image embeddings, but how do we generate the embeddings for the user query?\n",
    "Furthermore, how can we possibly have the same features between the image embeddings\n",
    "and text embeddings. This is where the power of CLIP comes in.\n",
    "\n",
    "Please write a function to turn user query text into an embedding\n",
    "in the same latent space as the images. \n",
    "\n",
    "**HINT** \n",
    "You can refer to the [CLIPModel documention](https://huggingface.co/docs/transformers/model_doc/clip#transformers.CLIPModel)"
   ]
  },
  {
   "cell_type": "code",
   "execution_count": null,
   "id": "460a8aba",
   "metadata": {},
   "outputs": [],
   "source": [
    "from transformers import CLIPTokenizerFast\n",
    "\n",
    "model = CLIPModel.from_pretrained(\"openai/clip-vit-base-patch32\")\n",
    "tokenizer = CLIPTokenizerFast.from_pretrained(MODEL_ID)\n",
    "\n",
    "def embed_func(query):\n",
    "    inputs = tokenizer([query], padding=True, return_tensors=\"pt\")\n",
    "    text_features = model.get_text_features(**inputs)\n",
    "    return text_features.detach().numpy()[0]"
   ]
  },
  {
   "cell_type": "markdown",
   "id": "9487085e",
   "metadata": {},
   "source": [
    "## Core search function\n",
    "\n",
    "Now let's write the core search function `find_images`, that takes a text query as input, and returns a list of PIL images that's most similar to the query.\n",
    "\n",
    "**SOLUTION**\n",
    "First, we need to call `embed_func` on the query to generate the text embedding.\n",
    "Then, we'll search through the LanceDB to get images most similar to the query.\n",
    "And we'll convert the resrults into Image instances.\n",
    "Finally, we'll call the `Image.to_pil` method to convert the bytes into PIL images"
   ]
  },
  {
   "cell_type": "code",
   "execution_count": null,
   "id": "4c712bcd",
   "metadata": {},
   "outputs": [],
   "source": [
    "def find_images(query):\n",
    "    emb = embed_func(query)\n",
    "    rs = table.search(emb).limit(9).to_pydantic(Image)\n",
    "    return [m.to_pil() for m in rs]"
   ]
  },
  {
   "cell_type": "code",
   "execution_count": null,
   "id": "f8ad4f0b",
   "metadata": {},
   "outputs": [],
   "source": [
    "find_images(\"fish\")[0]"
   ]
  },
  {
   "cell_type": "markdown",
   "id": "17a32409",
   "metadata": {},
   "source": [
    "## Create an App\n",
    "\n",
    "Let's use gradio to create a small app to search through the images.\n",
    "Please fill in the code below:\n",
    "1. Create a [text input](https://www.gradio.app/docs/textbox) where the user can type in a query\n",
    "2. Create a \"Submit\" [button](https://www.gradio.app/docs/button) that finds similar images to the input query and display the resulting images\n",
    "3. A [Gallery component](https://www.gradio.app/docs/gallery) that displays the images\n",
    "\n",
    "\n",
    "**SOLUTION**\n",
    "\n",
    "1. The input is just `gr.Textbox` and you'll want to assign that to some variable\n",
    "2. The submit button is `gr.Button`. Again, assign it to some variable\n",
    "3. The gallery is `gr.Gallery`\n",
    "4. You'll want to define the on click behavior for the button such that it uses\n",
    "   the textbox value as input, calls the `find_images` function you wrote above,\n",
    "   and uses the gallery to display the results"
   ]
  },
  {
   "cell_type": "code",
   "execution_count": null,
   "id": "944b115a",
   "metadata": {
    "scrolled": true
   },
   "outputs": [],
   "source": [
    "import gradio as gr\n",
    "\n",
    "\n",
    "with gr.Blocks() as demo:\n",
    "    with gr.Row():\n",
    "        vector_query = gr.Textbox(value=\"fish\", show_label=False)\n",
    "        b1 = gr.Button(\"Submit\")\n",
    "    with gr.Row():\n",
    "        gallery = gr.Gallery(\n",
    "                label=\"Found images\", show_label=False, elem_id=\"gallery\"\n",
    "            ).style(columns=[3], rows=[3], object_fit=\"contain\", height=\"auto\")   \n",
    "        \n",
    "    b1.click(find_images, inputs=vector_query, outputs=gallery)\n",
    "    \n",
    "demo.launch(server_name=\"0.0.0.0\", inline=False)"
   ]
  },
  {
   "cell_type": "markdown",
   "id": "9296df52-4941-4857-a86f-e268dd94d048",
   "metadata": {},
   "source": [
    "To view the interface, click on the **Links** button at the bottom of the workspace window.  Then click on **gradio**.  This will open a new browser window with the interface."
   ]
  },
  {
   "cell_type": "markdown",
   "id": "2d97f9ac",
   "metadata": {},
   "source": [
    "Now try a bunch of different queries and see the results.\n",
    "By default CLIP search results leave a lot of room for improvement. More advanced applications in this space can improve these results in a number ways like retraining the model with your own dataset, your own labels, and using image and text vectors to train the index. The details are however beyond the scope of this lesson."
   ]
  },
  {
   "cell_type": "markdown",
   "id": "5f6354ce",
   "metadata": {},
   "source": [
    "## Summary\n",
    "\n",
    "Congrats! \n",
    "\n",
    "Through this exercise, you learned how to use CLIP to generate image and text embeddings. You've mastered how to use vector databases to enable searching through images using natural language. And you even created a simple app to show off your work. \n",
    "\n",
    "Great job!"
   ]
  },
  {
   "cell_type": "code",
   "execution_count": null,
   "id": "bb884abe",
   "metadata": {},
   "outputs": [],
   "source": []
  }
 ],
 "metadata": {
  "kernelspec": {
   "display_name": "Python 3 (ipykernel)",
   "language": "python",
   "name": "python3"
  },
  "language_info": {
   "codemirror_mode": {
    "name": "ipython",
    "version": 3
   },
   "file_extension": ".py",
   "mimetype": "text/x-python",
   "name": "python",
   "nbconvert_exporter": "python",
   "pygments_lexer": "ipython3",
   "version": "3.10.13"
  }
 },
 "nbformat": 4,
 "nbformat_minor": 5
}
